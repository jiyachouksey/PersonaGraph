{
 "cells": [
  {
   "cell_type": "markdown",
   "id": "dab8b0eb-0067-4641-ad5c-725acf29ee49",
   "metadata": {},
   "source": [
    "# PersonaGraph: Behavioral Fingerprinting using Multi-Source Data Fusion\n",
    "\n",
    "## 📌 Objective\n",
    "\n",
    "To simulate behavioral data from multiple digital sources (like social media, browsing history, IoT devices) and build unique behavioral fingerprints for each user by fusing these sources. The goal is to group similar users using clustering techniques and interpret the behavioral patterns for applications like personalization, fraud detection, or recommendation systems.\n",
    "\n",
    "---\n",
    "\n",
    "## 📊 Why Synthetic Data?\n",
    "\n",
    "Since real user behavioral data is sensitive and difficult to access, we simulate realistic datasets representing multiple user interactions across platforms.\n",
    "\n",
    "---\n",
    "\n",
    "## 🔧 Tools & Libraries Used\n",
    "\n",
    "- Python\n",
    "- Pandas\n",
    "- NumPy\n",
    "- Scikit-learn\n",
    "- Matplotlib / Seaborn\n",
    "- Jupyter Notebook\n",
    "\n"
   ]
  },
  {
   "cell_type": "markdown",
   "id": "063076ad-7516-44e8-a97c-cac1e3d3ca7d",
   "metadata": {},
   "source": [
    "## 📦 Data Generation (Synthetic Multi-Source Data)\n",
    "\n",
    "In this section, we simulate behavioral data from three digital sources:\n",
    "- **Social Media Activity** (user interactions on social platforms)\n",
    "- **Browsing History** (time spent on websites)\n",
    "- **IoT Device Usage** (usage logs of smart devices)\n",
    "\n",
    "Each dataset will contain a `user_id`, timestamps, and behavior-specific features.\n",
    "\n",
    "This synthetic data helps us demonstrate data fusion, clustering, and fingerprinting without using real user data.\n",
    "\n",
    "---\n"
   ]
  },
  {
   "cell_type": "code",
   "execution_count": 1,
   "id": "75e3f215-425c-497d-ba83-857ba1983f82",
   "metadata": {},
   "outputs": [],
   "source": [
    "import os\n",
    "os.environ[\"OMP_NUM_THREADS\"] = \"1\""
   ]
  },
  {
   "cell_type": "code",
   "execution_count": 2,
   "id": "6fefcba0-0ba3-4eb6-9026-da2a52bfee1d",
   "metadata": {},
   "outputs": [],
   "source": [
    "import pandas as pd\n",
    "import numpy as np\n",
    "\n",
    "# Reproducibility\n",
    "np.random.seed(42)\n",
    "\n",
    "# Sample user IDs\n",
    "user_ids = [f'user_{i}' for i in range(1, 6)]\n",
    "\n",
    "# Social Media Activity Data -\n",
    "social_data = pd.DataFrame({\n",
    "    'user_id': np.random.choice(user_ids, 20),\n",
    "    'likes': np.random.randint(0, 50, 20),\n",
    "    'comments': np.random.randint(0, 30, 20),\n",
    "    'shares': np.random.randint(0, 10, 20),\n",
    "    'timestamp': pd.date_range('2025-07-01', periods=20, freq='h')\n",
    "})\n",
    "\n",
    "# Browsing History Data \n",
    "browsing_data = pd.DataFrame({\n",
    "    'user_id': np.random.choice(user_ids, 15),\n",
    "    'site_category': np.random.choice(['news', 'shopping', 'education', 'social', 'entertainment'], 15),\n",
    "    'time_spent_min': np.round(np.random.uniform(1, 20, 15), 2),\n",
    "    'timestamp': pd.date_range('2025-07-01', periods=15, freq='2h')\n",
    "})\n",
    "\n",
    "# IoT Device Usage Data \n",
    "iot_data = pd.DataFrame({\n",
    "    'user_id': np.random.choice(user_ids, 10),\n",
    "    'device': np.random.choice(['thermostat', 'smart_light', 'door_lock', 'camera'], 10),\n",
    "    'usage_duration_min': np.round(np.random.uniform(1, 60, 10), 2),\n",
    "    'timestamp': pd.date_range('2025-07-01', periods=10, freq='3h')\n",
    "})\n"
   ]
  },
  {
   "cell_type": "code",
   "execution_count": 3,
   "id": "26653d41-4496-4101-9968-ca38d3a84039",
   "metadata": {},
   "outputs": [
    {
     "name": "stdout",
     "output_type": "stream",
     "text": [
      "Social Media Activity\n"
     ]
    },
    {
     "data": {
      "text/html": [
       "<div>\n",
       "<style scoped>\n",
       "    .dataframe tbody tr th:only-of-type {\n",
       "        vertical-align: middle;\n",
       "    }\n",
       "\n",
       "    .dataframe tbody tr th {\n",
       "        vertical-align: top;\n",
       "    }\n",
       "\n",
       "    .dataframe thead th {\n",
       "        text-align: right;\n",
       "    }\n",
       "</style>\n",
       "<table border=\"1\" class=\"dataframe\">\n",
       "  <thead>\n",
       "    <tr style=\"text-align: right;\">\n",
       "      <th></th>\n",
       "      <th>user_id</th>\n",
       "      <th>likes</th>\n",
       "      <th>comments</th>\n",
       "      <th>shares</th>\n",
       "      <th>timestamp</th>\n",
       "    </tr>\n",
       "  </thead>\n",
       "  <tbody>\n",
       "    <tr>\n",
       "      <th>0</th>\n",
       "      <td>user_4</td>\n",
       "      <td>21</td>\n",
       "      <td>27</td>\n",
       "      <td>3</td>\n",
       "      <td>2025-07-01 00:00:00</td>\n",
       "    </tr>\n",
       "    <tr>\n",
       "      <th>1</th>\n",
       "      <td>user_5</td>\n",
       "      <td>43</td>\n",
       "      <td>13</td>\n",
       "      <td>1</td>\n",
       "      <td>2025-07-01 01:00:00</td>\n",
       "    </tr>\n",
       "    <tr>\n",
       "      <th>2</th>\n",
       "      <td>user_3</td>\n",
       "      <td>24</td>\n",
       "      <td>17</td>\n",
       "      <td>7</td>\n",
       "      <td>2025-07-01 02:00:00</td>\n",
       "    </tr>\n",
       "    <tr>\n",
       "      <th>3</th>\n",
       "      <td>user_5</td>\n",
       "      <td>48</td>\n",
       "      <td>25</td>\n",
       "      <td>3</td>\n",
       "      <td>2025-07-01 03:00:00</td>\n",
       "    </tr>\n",
       "    <tr>\n",
       "      <th>4</th>\n",
       "      <td>user_5</td>\n",
       "      <td>26</td>\n",
       "      <td>8</td>\n",
       "      <td>1</td>\n",
       "      <td>2025-07-01 04:00:00</td>\n",
       "    </tr>\n",
       "  </tbody>\n",
       "</table>\n",
       "</div>"
      ],
      "text/plain": [
       "  user_id  likes  comments  shares           timestamp\n",
       "0  user_4     21        27       3 2025-07-01 00:00:00\n",
       "1  user_5     43        13       1 2025-07-01 01:00:00\n",
       "2  user_3     24        17       7 2025-07-01 02:00:00\n",
       "3  user_5     48        25       3 2025-07-01 03:00:00\n",
       "4  user_5     26         8       1 2025-07-01 04:00:00"
      ]
     },
     "metadata": {},
     "output_type": "display_data"
    }
   ],
   "source": [
    "print(\"Social Media Activity\")\n",
    "display(social_data.head())"
   ]
  },
  {
   "cell_type": "code",
   "execution_count": 4,
   "id": "b05f799b-a179-4eaf-9230-51fb8c5402ff",
   "metadata": {},
   "outputs": [
    {
     "name": "stdout",
     "output_type": "stream",
     "text": [
      "\n",
      " Browsing History\n"
     ]
    },
    {
     "data": {
      "text/html": [
       "<div>\n",
       "<style scoped>\n",
       "    .dataframe tbody tr th:only-of-type {\n",
       "        vertical-align: middle;\n",
       "    }\n",
       "\n",
       "    .dataframe tbody tr th {\n",
       "        vertical-align: top;\n",
       "    }\n",
       "\n",
       "    .dataframe thead th {\n",
       "        text-align: right;\n",
       "    }\n",
       "</style>\n",
       "<table border=\"1\" class=\"dataframe\">\n",
       "  <thead>\n",
       "    <tr style=\"text-align: right;\">\n",
       "      <th></th>\n",
       "      <th>user_id</th>\n",
       "      <th>site_category</th>\n",
       "      <th>time_spent_min</th>\n",
       "      <th>timestamp</th>\n",
       "    </tr>\n",
       "  </thead>\n",
       "  <tbody>\n",
       "    <tr>\n",
       "      <th>0</th>\n",
       "      <td>user_5</td>\n",
       "      <td>news</td>\n",
       "      <td>12.84</td>\n",
       "      <td>2025-07-01 00:00:00</td>\n",
       "    </tr>\n",
       "    <tr>\n",
       "      <th>1</th>\n",
       "      <td>user_2</td>\n",
       "      <td>social</td>\n",
       "      <td>7.29</td>\n",
       "      <td>2025-07-01 02:00:00</td>\n",
       "    </tr>\n",
       "    <tr>\n",
       "      <th>2</th>\n",
       "      <td>user_5</td>\n",
       "      <td>education</td>\n",
       "      <td>2.21</td>\n",
       "      <td>2025-07-01 04:00:00</td>\n",
       "    </tr>\n",
       "    <tr>\n",
       "      <th>3</th>\n",
       "      <td>user_2</td>\n",
       "      <td>education</td>\n",
       "      <td>6.91</td>\n",
       "      <td>2025-07-01 06:00:00</td>\n",
       "    </tr>\n",
       "    <tr>\n",
       "      <th>4</th>\n",
       "      <td>user_1</td>\n",
       "      <td>news</td>\n",
       "      <td>7.18</td>\n",
       "      <td>2025-07-01 08:00:00</td>\n",
       "    </tr>\n",
       "  </tbody>\n",
       "</table>\n",
       "</div>"
      ],
      "text/plain": [
       "  user_id site_category  time_spent_min           timestamp\n",
       "0  user_5          news           12.84 2025-07-01 00:00:00\n",
       "1  user_2        social            7.29 2025-07-01 02:00:00\n",
       "2  user_5     education            2.21 2025-07-01 04:00:00\n",
       "3  user_2     education            6.91 2025-07-01 06:00:00\n",
       "4  user_1          news            7.18 2025-07-01 08:00:00"
      ]
     },
     "metadata": {},
     "output_type": "display_data"
    }
   ],
   "source": [
    "print(\"\\n Browsing History\")\n",
    "display(browsing_data.head())"
   ]
  },
  {
   "cell_type": "code",
   "execution_count": 5,
   "id": "899beb4c-5259-4a84-993e-8b7a6d3354b3",
   "metadata": {},
   "outputs": [
    {
     "name": "stdout",
     "output_type": "stream",
     "text": [
      "\n",
      " IoT Device Usuage\n"
     ]
    },
    {
     "data": {
      "text/html": [
       "<div>\n",
       "<style scoped>\n",
       "    .dataframe tbody tr th:only-of-type {\n",
       "        vertical-align: middle;\n",
       "    }\n",
       "\n",
       "    .dataframe tbody tr th {\n",
       "        vertical-align: top;\n",
       "    }\n",
       "\n",
       "    .dataframe thead th {\n",
       "        text-align: right;\n",
       "    }\n",
       "</style>\n",
       "<table border=\"1\" class=\"dataframe\">\n",
       "  <thead>\n",
       "    <tr style=\"text-align: right;\">\n",
       "      <th></th>\n",
       "      <th>user_id</th>\n",
       "      <th>device</th>\n",
       "      <th>usage_duration_min</th>\n",
       "      <th>timestamp</th>\n",
       "    </tr>\n",
       "  </thead>\n",
       "  <tbody>\n",
       "    <tr>\n",
       "      <th>0</th>\n",
       "      <td>user_1</td>\n",
       "      <td>smart_light</td>\n",
       "      <td>5.54</td>\n",
       "      <td>2025-07-01 00:00:00</td>\n",
       "    </tr>\n",
       "    <tr>\n",
       "      <th>1</th>\n",
       "      <td>user_2</td>\n",
       "      <td>thermostat</td>\n",
       "      <td>18.10</td>\n",
       "      <td>2025-07-01 03:00:00</td>\n",
       "    </tr>\n",
       "    <tr>\n",
       "      <th>2</th>\n",
       "      <td>user_2</td>\n",
       "      <td>door_lock</td>\n",
       "      <td>10.51</td>\n",
       "      <td>2025-07-01 06:00:00</td>\n",
       "    </tr>\n",
       "    <tr>\n",
       "      <th>3</th>\n",
       "      <td>user_4</td>\n",
       "      <td>door_lock</td>\n",
       "      <td>55.85</td>\n",
       "      <td>2025-07-01 09:00:00</td>\n",
       "    </tr>\n",
       "    <tr>\n",
       "      <th>4</th>\n",
       "      <td>user_5</td>\n",
       "      <td>thermostat</td>\n",
       "      <td>48.68</td>\n",
       "      <td>2025-07-01 12:00:00</td>\n",
       "    </tr>\n",
       "  </tbody>\n",
       "</table>\n",
       "</div>"
      ],
      "text/plain": [
       "  user_id       device  usage_duration_min           timestamp\n",
       "0  user_1  smart_light                5.54 2025-07-01 00:00:00\n",
       "1  user_2   thermostat               18.10 2025-07-01 03:00:00\n",
       "2  user_2    door_lock               10.51 2025-07-01 06:00:00\n",
       "3  user_4    door_lock               55.85 2025-07-01 09:00:00\n",
       "4  user_5   thermostat               48.68 2025-07-01 12:00:00"
      ]
     },
     "metadata": {},
     "output_type": "display_data"
    }
   ],
   "source": [
    "print(\"\\n IoT Device Usuage\")\n",
    "display(iot_data.head())\n"
   ]
  },
  {
   "cell_type": "markdown",
   "id": "2de90ad4-5d7a-479f-a6fc-ada6db7c4f6b",
   "metadata": {},
   "source": [
    "##  Data Cleaning & Preprocessing\n",
    "\n",
    "### 🎯 Objective\n",
    "Before we can fuse and analyze the data, we need to clean each dataset. This step involves:\n",
    "\n",
    "- Checking for missing values\n",
    "- Ensuring timestamps are in proper datetime format\n",
    "- Extracting additional time-based features like hour and day of the week\n",
    "\n",
    "---\n",
    "\n",
    "### 🧼 Cleaning and Preparing `social_data`\n"
   ]
  },
  {
   "cell_type": "code",
   "execution_count": 6,
   "id": "92454705-c250-431e-9775-3e0d43214cbe",
   "metadata": {},
   "outputs": [
    {
     "name": "stdout",
     "output_type": "stream",
     "text": [
      "Missing values in social_data:\n",
      " user_id      0\n",
      "likes        0\n",
      "comments     0\n",
      "shares       0\n",
      "timestamp    0\n",
      "dtype: int64\n"
     ]
    }
   ],
   "source": [
    "#Checking for missing values\n",
    "print(\"Missing values in social_data:\\n\", social_data.isnull().sum())"
   ]
  },
  {
   "cell_type": "code",
   "execution_count": 7,
   "id": "02028efa-5e1f-4e49-b438-deedb4bda3f2",
   "metadata": {},
   "outputs": [],
   "source": [
    "#convert timestamp coulum into datetime\n",
    "social_data['timestamp'] = pd.to_datetime(social_data['timestamp'])"
   ]
  },
  {
   "cell_type": "code",
   "execution_count": 8,
   "id": "5b5c63c1-6edb-4105-b3ee-a0471e782151",
   "metadata": {},
   "outputs": [],
   "source": [
    "#extract time-based features\n",
    "social_data['hours'] = social_data['timestamp'].dt.hour\n",
    "social_data['dayofweek'] = social_data['timestamp'].dt.day_name()"
   ]
  },
  {
   "cell_type": "code",
   "execution_count": 9,
   "id": "d07ed1e3-98a5-42f7-88c2-b9db64e0d379",
   "metadata": {},
   "outputs": [
    {
     "data": {
      "text/html": [
       "<div>\n",
       "<style scoped>\n",
       "    .dataframe tbody tr th:only-of-type {\n",
       "        vertical-align: middle;\n",
       "    }\n",
       "\n",
       "    .dataframe tbody tr th {\n",
       "        vertical-align: top;\n",
       "    }\n",
       "\n",
       "    .dataframe thead th {\n",
       "        text-align: right;\n",
       "    }\n",
       "</style>\n",
       "<table border=\"1\" class=\"dataframe\">\n",
       "  <thead>\n",
       "    <tr style=\"text-align: right;\">\n",
       "      <th></th>\n",
       "      <th>user_id</th>\n",
       "      <th>likes</th>\n",
       "      <th>comments</th>\n",
       "      <th>shares</th>\n",
       "      <th>timestamp</th>\n",
       "      <th>hours</th>\n",
       "      <th>dayofweek</th>\n",
       "    </tr>\n",
       "  </thead>\n",
       "  <tbody>\n",
       "    <tr>\n",
       "      <th>0</th>\n",
       "      <td>user_4</td>\n",
       "      <td>21</td>\n",
       "      <td>27</td>\n",
       "      <td>3</td>\n",
       "      <td>2025-07-01 00:00:00</td>\n",
       "      <td>0</td>\n",
       "      <td>Tuesday</td>\n",
       "    </tr>\n",
       "    <tr>\n",
       "      <th>1</th>\n",
       "      <td>user_5</td>\n",
       "      <td>43</td>\n",
       "      <td>13</td>\n",
       "      <td>1</td>\n",
       "      <td>2025-07-01 01:00:00</td>\n",
       "      <td>1</td>\n",
       "      <td>Tuesday</td>\n",
       "    </tr>\n",
       "    <tr>\n",
       "      <th>2</th>\n",
       "      <td>user_3</td>\n",
       "      <td>24</td>\n",
       "      <td>17</td>\n",
       "      <td>7</td>\n",
       "      <td>2025-07-01 02:00:00</td>\n",
       "      <td>2</td>\n",
       "      <td>Tuesday</td>\n",
       "    </tr>\n",
       "    <tr>\n",
       "      <th>3</th>\n",
       "      <td>user_5</td>\n",
       "      <td>48</td>\n",
       "      <td>25</td>\n",
       "      <td>3</td>\n",
       "      <td>2025-07-01 03:00:00</td>\n",
       "      <td>3</td>\n",
       "      <td>Tuesday</td>\n",
       "    </tr>\n",
       "    <tr>\n",
       "      <th>4</th>\n",
       "      <td>user_5</td>\n",
       "      <td>26</td>\n",
       "      <td>8</td>\n",
       "      <td>1</td>\n",
       "      <td>2025-07-01 04:00:00</td>\n",
       "      <td>4</td>\n",
       "      <td>Tuesday</td>\n",
       "    </tr>\n",
       "  </tbody>\n",
       "</table>\n",
       "</div>"
      ],
      "text/plain": [
       "  user_id  likes  comments  shares           timestamp  hours dayofweek\n",
       "0  user_4     21        27       3 2025-07-01 00:00:00      0   Tuesday\n",
       "1  user_5     43        13       1 2025-07-01 01:00:00      1   Tuesday\n",
       "2  user_3     24        17       7 2025-07-01 02:00:00      2   Tuesday\n",
       "3  user_5     48        25       3 2025-07-01 03:00:00      3   Tuesday\n",
       "4  user_5     26         8       1 2025-07-01 04:00:00      4   Tuesday"
      ]
     },
     "metadata": {},
     "output_type": "display_data"
    }
   ],
   "source": [
    "#preview clean data\n",
    "display(social_data.head())"
   ]
  },
  {
   "cell_type": "markdown",
   "id": "7f2f5b6d-008d-4517-adcc-63f00d1d6614",
   "metadata": {},
   "source": [
    "### 🧼 Cleaning and Preparing `browsing_data`\n"
   ]
  },
  {
   "cell_type": "code",
   "execution_count": 10,
   "id": "f4f5b38a-e9d7-49f7-978c-66c4812b8c47",
   "metadata": {},
   "outputs": [
    {
     "name": "stdout",
     "output_type": "stream",
     "text": [
      "Missing values in browsing_data:\n",
      " user_id           0\n",
      "site_category     0\n",
      "time_spent_min    0\n",
      "timestamp         0\n",
      "dtype: int64\n"
     ]
    }
   ],
   "source": [
    "#Checking for missing values\n",
    "print(\"Missing values in browsing_data:\\n\", browsing_data.isnull().sum())"
   ]
  },
  {
   "cell_type": "code",
   "execution_count": 11,
   "id": "59ecbe45-ee49-4c3f-b1a5-c81d52dcb938",
   "metadata": {},
   "outputs": [],
   "source": [
    "#convert timestamp\n",
    "browsing_data['timestamp'] = pd.to_datetime(browsing_data['timestamp'])"
   ]
  },
  {
   "cell_type": "code",
   "execution_count": 12,
   "id": "c84dcd9b-d68e-4942-a329-59b168626395",
   "metadata": {},
   "outputs": [],
   "source": [
    "#extract hours and day of the week \n",
    "browsing_data['hour'] = browsing_data['timestamp'].dt.hour\n",
    "browsing_data['dayofweek'] = browsing_data['timestamp'].dt.day_name()"
   ]
  },
  {
   "cell_type": "code",
   "execution_count": 13,
   "id": "66767d17-9971-4ee4-9c2c-dc2a0f2174e8",
   "metadata": {},
   "outputs": [
    {
     "data": {
      "text/html": [
       "<div>\n",
       "<style scoped>\n",
       "    .dataframe tbody tr th:only-of-type {\n",
       "        vertical-align: middle;\n",
       "    }\n",
       "\n",
       "    .dataframe tbody tr th {\n",
       "        vertical-align: top;\n",
       "    }\n",
       "\n",
       "    .dataframe thead th {\n",
       "        text-align: right;\n",
       "    }\n",
       "</style>\n",
       "<table border=\"1\" class=\"dataframe\">\n",
       "  <thead>\n",
       "    <tr style=\"text-align: right;\">\n",
       "      <th></th>\n",
       "      <th>user_id</th>\n",
       "      <th>site_category</th>\n",
       "      <th>time_spent_min</th>\n",
       "      <th>timestamp</th>\n",
       "      <th>hour</th>\n",
       "      <th>dayofweek</th>\n",
       "    </tr>\n",
       "  </thead>\n",
       "  <tbody>\n",
       "    <tr>\n",
       "      <th>0</th>\n",
       "      <td>user_5</td>\n",
       "      <td>news</td>\n",
       "      <td>12.84</td>\n",
       "      <td>2025-07-01 00:00:00</td>\n",
       "      <td>0</td>\n",
       "      <td>Tuesday</td>\n",
       "    </tr>\n",
       "    <tr>\n",
       "      <th>1</th>\n",
       "      <td>user_2</td>\n",
       "      <td>social</td>\n",
       "      <td>7.29</td>\n",
       "      <td>2025-07-01 02:00:00</td>\n",
       "      <td>2</td>\n",
       "      <td>Tuesday</td>\n",
       "    </tr>\n",
       "    <tr>\n",
       "      <th>2</th>\n",
       "      <td>user_5</td>\n",
       "      <td>education</td>\n",
       "      <td>2.21</td>\n",
       "      <td>2025-07-01 04:00:00</td>\n",
       "      <td>4</td>\n",
       "      <td>Tuesday</td>\n",
       "    </tr>\n",
       "    <tr>\n",
       "      <th>3</th>\n",
       "      <td>user_2</td>\n",
       "      <td>education</td>\n",
       "      <td>6.91</td>\n",
       "      <td>2025-07-01 06:00:00</td>\n",
       "      <td>6</td>\n",
       "      <td>Tuesday</td>\n",
       "    </tr>\n",
       "    <tr>\n",
       "      <th>4</th>\n",
       "      <td>user_1</td>\n",
       "      <td>news</td>\n",
       "      <td>7.18</td>\n",
       "      <td>2025-07-01 08:00:00</td>\n",
       "      <td>8</td>\n",
       "      <td>Tuesday</td>\n",
       "    </tr>\n",
       "  </tbody>\n",
       "</table>\n",
       "</div>"
      ],
      "text/plain": [
       "  user_id site_category  time_spent_min           timestamp  hour dayofweek\n",
       "0  user_5          news           12.84 2025-07-01 00:00:00     0   Tuesday\n",
       "1  user_2        social            7.29 2025-07-01 02:00:00     2   Tuesday\n",
       "2  user_5     education            2.21 2025-07-01 04:00:00     4   Tuesday\n",
       "3  user_2     education            6.91 2025-07-01 06:00:00     6   Tuesday\n",
       "4  user_1          news            7.18 2025-07-01 08:00:00     8   Tuesday"
      ]
     },
     "metadata": {},
     "output_type": "display_data"
    }
   ],
   "source": [
    "#preview\n",
    "display(browsing_data.head())"
   ]
  },
  {
   "cell_type": "markdown",
   "id": "5f69290b-d8b9-44d3-a96d-d1b02409e2dd",
   "metadata": {},
   "source": [
    "### 🧼 Cleaning and Preparing `iot_data`\n"
   ]
  },
  {
   "cell_type": "code",
   "execution_count": 14,
   "id": "98eee9c6-cebd-4582-8326-428d6e3828fc",
   "metadata": {},
   "outputs": [
    {
     "name": "stdout",
     "output_type": "stream",
     "text": [
      "missing value in iot_data:\n",
      " user_id               0\n",
      "device                0\n",
      "usage_duration_min    0\n",
      "timestamp             0\n",
      "dtype: int64\n"
     ]
    }
   ],
   "source": [
    "#cleaning the missing values\n",
    "print(\"missing value in iot_data:\\n\", iot_data.isnull().sum())"
   ]
  },
  {
   "cell_type": "code",
   "execution_count": 15,
   "id": "3862e943-18d3-4623-8c0c-809df1f4eda6",
   "metadata": {},
   "outputs": [],
   "source": [
    "#convert timestamp\n",
    "iot_data['timestamp'] = pd.to_datetime(iot_data['timestamp'])"
   ]
  },
  {
   "cell_type": "code",
   "execution_count": 16,
   "id": "5e84d2e5-e5d6-41ea-a5d6-bce37dec159d",
   "metadata": {},
   "outputs": [],
   "source": [
    "#extract time based features\n",
    "iot_data['hour'] = iot_data['timestamp'].dt.hour\n",
    "iot_data['dayofweek'] = iot_data['timestamp'].dt.day_name()"
   ]
  },
  {
   "cell_type": "code",
   "execution_count": 17,
   "id": "5df26d13-2993-4adf-b5a7-efc1d3532faa",
   "metadata": {},
   "outputs": [
    {
     "data": {
      "text/html": [
       "<div>\n",
       "<style scoped>\n",
       "    .dataframe tbody tr th:only-of-type {\n",
       "        vertical-align: middle;\n",
       "    }\n",
       "\n",
       "    .dataframe tbody tr th {\n",
       "        vertical-align: top;\n",
       "    }\n",
       "\n",
       "    .dataframe thead th {\n",
       "        text-align: right;\n",
       "    }\n",
       "</style>\n",
       "<table border=\"1\" class=\"dataframe\">\n",
       "  <thead>\n",
       "    <tr style=\"text-align: right;\">\n",
       "      <th></th>\n",
       "      <th>user_id</th>\n",
       "      <th>device</th>\n",
       "      <th>usage_duration_min</th>\n",
       "      <th>timestamp</th>\n",
       "      <th>hour</th>\n",
       "      <th>dayofweek</th>\n",
       "    </tr>\n",
       "  </thead>\n",
       "  <tbody>\n",
       "    <tr>\n",
       "      <th>0</th>\n",
       "      <td>user_1</td>\n",
       "      <td>smart_light</td>\n",
       "      <td>5.54</td>\n",
       "      <td>2025-07-01 00:00:00</td>\n",
       "      <td>0</td>\n",
       "      <td>Tuesday</td>\n",
       "    </tr>\n",
       "    <tr>\n",
       "      <th>1</th>\n",
       "      <td>user_2</td>\n",
       "      <td>thermostat</td>\n",
       "      <td>18.10</td>\n",
       "      <td>2025-07-01 03:00:00</td>\n",
       "      <td>3</td>\n",
       "      <td>Tuesday</td>\n",
       "    </tr>\n",
       "    <tr>\n",
       "      <th>2</th>\n",
       "      <td>user_2</td>\n",
       "      <td>door_lock</td>\n",
       "      <td>10.51</td>\n",
       "      <td>2025-07-01 06:00:00</td>\n",
       "      <td>6</td>\n",
       "      <td>Tuesday</td>\n",
       "    </tr>\n",
       "    <tr>\n",
       "      <th>3</th>\n",
       "      <td>user_4</td>\n",
       "      <td>door_lock</td>\n",
       "      <td>55.85</td>\n",
       "      <td>2025-07-01 09:00:00</td>\n",
       "      <td>9</td>\n",
       "      <td>Tuesday</td>\n",
       "    </tr>\n",
       "    <tr>\n",
       "      <th>4</th>\n",
       "      <td>user_5</td>\n",
       "      <td>thermostat</td>\n",
       "      <td>48.68</td>\n",
       "      <td>2025-07-01 12:00:00</td>\n",
       "      <td>12</td>\n",
       "      <td>Tuesday</td>\n",
       "    </tr>\n",
       "  </tbody>\n",
       "</table>\n",
       "</div>"
      ],
      "text/plain": [
       "  user_id       device  usage_duration_min           timestamp  hour dayofweek\n",
       "0  user_1  smart_light                5.54 2025-07-01 00:00:00     0   Tuesday\n",
       "1  user_2   thermostat               18.10 2025-07-01 03:00:00     3   Tuesday\n",
       "2  user_2    door_lock               10.51 2025-07-01 06:00:00     6   Tuesday\n",
       "3  user_4    door_lock               55.85 2025-07-01 09:00:00     9   Tuesday\n",
       "4  user_5   thermostat               48.68 2025-07-01 12:00:00    12   Tuesday"
      ]
     },
     "metadata": {},
     "output_type": "display_data"
    }
   ],
   "source": [
    "# Preview\n",
    "display(iot_data.head())"
   ]
  },
  {
   "cell_type": "markdown",
   "id": "51da4788-a1fb-43fc-9976-01c37670a156",
   "metadata": {},
   "source": [
    "✅ **Checkpoint**\n",
    "At this stage, all datasets are:\n",
    " Timestamp-aligned\n",
    " Feature-rich with time components\n",
    " Cleaned and ready for data fusion\n"
   ]
  },
  {
   "cell_type": "markdown",
   "id": "b133e209-471a-405e-beac-71a474736c7e",
   "metadata": {},
   "source": [
    "##  Data Fusion – Merging Multi-Source Behavior Data\n",
    "\n",
    "Now that we have cleaned data from web, app, and social platforms, it's time to fuse them into a single timeline.\n",
    "\n",
    "We'll:\n",
    "- Add a `source` column to each dataset to identify origin.\n",
    "- Concatenate them into a single DataFrame.\n",
    "- Sort all events chronologically using the `timestamp`.\n",
    "\n",
    "This fusion allows us to trace users' actions across platforms and analyze their digital footprint holistically.\n"
   ]
  },
  {
   "cell_type": "code",
   "execution_count": 18,
   "id": "2901cb30-b264-40db-a88f-0ee463649160",
   "metadata": {},
   "outputs": [],
   "source": [
    "import os\n",
    "os.environ[\"OMP_NUM_THREADS\"] = \"1\"\n"
   ]
  },
  {
   "cell_type": "code",
   "execution_count": 19,
   "id": "21722c5b-a377-487b-babd-a5f2bf70724d",
   "metadata": {},
   "outputs": [],
   "source": [
    "import pandas as pd\n",
    "import numpy as np\n",
    "\n",
    "# --- Web Activity Dataset ---\n",
    "web_data = pd.DataFrame({\n",
    "    'user_id': np.random.choice(['U1', 'U2', 'U3'], size=20),\n",
    "    'timestamp': pd.date_range('2025-07-01', periods=20, freq='h'),\n",
    "    'pages_visited': np.random.choice(['Home', 'About', 'Products', 'Blog'], size=20)\n",
    "})\n",
    "\n",
    "web_data['hour'] = web_data['timestamp'].dt.hour\n",
    "web_data['dayofweek'] = web_data['timestamp'].dt.dayofweek\n",
    "\n",
    "# --- App Activity Dataset ---\n",
    "app_data = pd.DataFrame({\n",
    "    'user_id': np.random.choice(['U1', 'U2', 'U3'], size=15),\n",
    "    'timestamp': pd.date_range('2025-07-01', periods=15, freq='2h'),\n",
    "    'feature_used': np.random.choice(['Search', 'Filter', 'Upload'], size=15),\n",
    "    'time_spent_min': np.round(np.random.uniform(1, 20, 15), 2)\n",
    "})\n",
    "\n",
    "app_data['hour'] = app_data['timestamp'].dt.hour\n",
    "app_data['dayofweek'] = app_data['timestamp'].dt.dayofweek\n",
    "\n",
    "# --- Social Activity Dataset ---\n",
    "social_data = pd.DataFrame({\n",
    "    'user_id': np.random.choice(['U1', 'U2', 'U3'], size=10),\n",
    "    'timestamp': pd.date_range('2025-07-01', periods=10, freq='3h'),\n",
    "    'activity_type': np.random.choice(['Like', 'Share', 'Comment'], size=10),\n",
    "    'platform': np.random.choice(['Instagram', 'X', 'LinkedIn'], size=10)\n",
    "})\n",
    "\n",
    "social_data['hour'] = social_data['timestamp'].dt.hour\n",
    "social_data['dayofweek'] = social_data['timestamp'].dt.dayofweek\n"
   ]
  },
  {
   "cell_type": "markdown",
   "id": "e45bd66e-4c8b-4e48-aed1-c74f04b1788a",
   "metadata": {},
   "source": [
    "##  Data Fusion and Behavioral Feature Engineering\n",
    "\n",
    "In this step, we:\n",
    "- Combine `web_data`, `app_data`, and `social_data` into a unified dataset.\n",
    "- Normalize column names to a consistent schema.\n",
    "- Create a user-level summary (behavioral fingerprint) using aggregated features like activity count, average time spent, most active hour, and dominant platform.\n"
   ]
  },
  {
   "cell_type": "code",
   "execution_count": 20,
   "id": "bbdbafa2-758b-4dbf-9aeb-44872f4d0d5d",
   "metadata": {},
   "outputs": [],
   "source": [
    "# Add a column to track data source\n",
    "web_data['source'] = 'web'\n",
    "app_data['source'] = 'app'\n",
    "social_data['source'] = 'social'"
   ]
  },
  {
   "cell_type": "code",
   "execution_count": 21,
   "id": "a94144ac-7ab1-40c7-be9f-e50e32c979d4",
   "metadata": {},
   "outputs": [],
   "source": [
    "#normalize column names\n",
    "web_data = web_data.rename(columns={'page_visited' : 'activity'})\n",
    "app_data = app_data.rename(columns={'feature_used' : 'activity'})\n",
    "social_data = social_data.rename(columns={'activity_type' : 'activity'})\n",
    "\n",
    "#combing all datasets \n",
    "combined_data = pd.concat([web_data, app_data, social_data], ignore_index = True)"
   ]
  },
  {
   "cell_type": "code",
   "execution_count": 22,
   "id": "fc8dca83-47a2-4c7e-9c08-6875f7209c27",
   "metadata": {},
   "outputs": [
    {
     "data": {
      "text/html": [
       "<div>\n",
       "<style scoped>\n",
       "    .dataframe tbody tr th:only-of-type {\n",
       "        vertical-align: middle;\n",
       "    }\n",
       "\n",
       "    .dataframe tbody tr th {\n",
       "        vertical-align: top;\n",
       "    }\n",
       "\n",
       "    .dataframe thead th {\n",
       "        text-align: right;\n",
       "    }\n",
       "</style>\n",
       "<table border=\"1\" class=\"dataframe\">\n",
       "  <thead>\n",
       "    <tr style=\"text-align: right;\">\n",
       "      <th></th>\n",
       "      <th>user_id</th>\n",
       "      <th>timestamp</th>\n",
       "      <th>pages_visited</th>\n",
       "      <th>hour</th>\n",
       "      <th>dayofweek</th>\n",
       "      <th>source</th>\n",
       "      <th>activity</th>\n",
       "      <th>time_spent_min</th>\n",
       "      <th>platform</th>\n",
       "    </tr>\n",
       "  </thead>\n",
       "  <tbody>\n",
       "    <tr>\n",
       "      <th>0</th>\n",
       "      <td>U3</td>\n",
       "      <td>2025-07-01 00:00:00</td>\n",
       "      <td>Home</td>\n",
       "      <td>0</td>\n",
       "      <td>1</td>\n",
       "      <td>web</td>\n",
       "      <td>NaN</td>\n",
       "      <td>NaN</td>\n",
       "      <td>NaN</td>\n",
       "    </tr>\n",
       "    <tr>\n",
       "      <th>1</th>\n",
       "      <td>U2</td>\n",
       "      <td>2025-07-01 01:00:00</td>\n",
       "      <td>Home</td>\n",
       "      <td>1</td>\n",
       "      <td>1</td>\n",
       "      <td>web</td>\n",
       "      <td>NaN</td>\n",
       "      <td>NaN</td>\n",
       "      <td>NaN</td>\n",
       "    </tr>\n",
       "    <tr>\n",
       "      <th>2</th>\n",
       "      <td>U3</td>\n",
       "      <td>2025-07-01 02:00:00</td>\n",
       "      <td>Products</td>\n",
       "      <td>2</td>\n",
       "      <td>1</td>\n",
       "      <td>web</td>\n",
       "      <td>NaN</td>\n",
       "      <td>NaN</td>\n",
       "      <td>NaN</td>\n",
       "    </tr>\n",
       "    <tr>\n",
       "      <th>3</th>\n",
       "      <td>U1</td>\n",
       "      <td>2025-07-01 03:00:00</td>\n",
       "      <td>About</td>\n",
       "      <td>3</td>\n",
       "      <td>1</td>\n",
       "      <td>web</td>\n",
       "      <td>NaN</td>\n",
       "      <td>NaN</td>\n",
       "      <td>NaN</td>\n",
       "    </tr>\n",
       "    <tr>\n",
       "      <th>4</th>\n",
       "      <td>U3</td>\n",
       "      <td>2025-07-01 04:00:00</td>\n",
       "      <td>Blog</td>\n",
       "      <td>4</td>\n",
       "      <td>1</td>\n",
       "      <td>web</td>\n",
       "      <td>NaN</td>\n",
       "      <td>NaN</td>\n",
       "      <td>NaN</td>\n",
       "    </tr>\n",
       "  </tbody>\n",
       "</table>\n",
       "</div>"
      ],
      "text/plain": [
       "  user_id           timestamp pages_visited  hour  dayofweek source activity  \\\n",
       "0      U3 2025-07-01 00:00:00          Home     0          1    web      NaN   \n",
       "1      U2 2025-07-01 01:00:00          Home     1          1    web      NaN   \n",
       "2      U3 2025-07-01 02:00:00      Products     2          1    web      NaN   \n",
       "3      U1 2025-07-01 03:00:00         About     3          1    web      NaN   \n",
       "4      U3 2025-07-01 04:00:00          Blog     4          1    web      NaN   \n",
       "\n",
       "   time_spent_min platform  \n",
       "0             NaN      NaN  \n",
       "1             NaN      NaN  \n",
       "2             NaN      NaN  \n",
       "3             NaN      NaN  \n",
       "4             NaN      NaN  "
      ]
     },
     "metadata": {},
     "output_type": "display_data"
    }
   ],
   "source": [
    "#preview combined data \n",
    "display(combined_data.head())"
   ]
  },
  {
   "cell_type": "code",
   "execution_count": 23,
   "id": "e30fa3b5-a111-40a2-babc-75f1248f0af2",
   "metadata": {},
   "outputs": [],
   "source": [
    "# Feature engineering: summarize user activity\n",
    "#Total number of activities per user \n",
    "activity_count = combined_data.groupby('user_id').size().rename('total_activity_count')"
   ]
  },
  {
   "cell_type": "code",
   "execution_count": 24,
   "id": "50feb885-e3ad-4946-b390-ac53e37ccb7a",
   "metadata": {},
   "outputs": [],
   "source": [
    "#Average hour of activity \n",
    "avg_active_hour = combined_data.groupby('user_id')['hour'].mean().rename('avg_active_hour')"
   ]
  },
  {
   "cell_type": "code",
   "execution_count": 25,
   "id": "22fb9170-1203-493d-b0b0-d53837495a04",
   "metadata": {},
   "outputs": [],
   "source": [
    "#most frequent day of activity\n",
    "most_active_day = combined_data.groupby('user_id')['dayofweek'].agg(lambda x: x.mode()[0]).rename('most_active_day')"
   ]
  },
  {
   "cell_type": "code",
   "execution_count": 26,
   "id": "6e3faa02-7d44-4926-ace5-f8f78b0d56fe",
   "metadata": {},
   "outputs": [],
   "source": [
    "#source diveristy\n",
    "source_diversity = combined_data.groupby('user_id')['source'].nunique().rename('source_diversity')"
   ]
  },
  {
   "cell_type": "code",
   "execution_count": 27,
   "id": "96484572-5512-4d59-a4bc-6576bda58f69",
   "metadata": {},
   "outputs": [],
   "source": [
    "#combine all into a fingerprint\n",
    "behavioral_fingerprint = pd.concat([activity_count, avg_active_hour, most_active_day, source_diversity], axis=1)\n"
   ]
  },
  {
   "cell_type": "code",
   "execution_count": 28,
   "id": "e5e9fd5b-8ffb-4cb4-b0f3-cf5be8ef76f2",
   "metadata": {},
   "outputs": [
    {
     "data": {
      "text/html": [
       "<div>\n",
       "<style scoped>\n",
       "    .dataframe tbody tr th:only-of-type {\n",
       "        vertical-align: middle;\n",
       "    }\n",
       "\n",
       "    .dataframe tbody tr th {\n",
       "        vertical-align: top;\n",
       "    }\n",
       "\n",
       "    .dataframe thead th {\n",
       "        text-align: right;\n",
       "    }\n",
       "</style>\n",
       "<table border=\"1\" class=\"dataframe\">\n",
       "  <thead>\n",
       "    <tr style=\"text-align: right;\">\n",
       "      <th></th>\n",
       "      <th>total_activity_count</th>\n",
       "      <th>avg_active_hour</th>\n",
       "      <th>most_active_day</th>\n",
       "      <th>source_diversity</th>\n",
       "    </tr>\n",
       "    <tr>\n",
       "      <th>user_id</th>\n",
       "      <th></th>\n",
       "      <th></th>\n",
       "      <th></th>\n",
       "      <th></th>\n",
       "    </tr>\n",
       "  </thead>\n",
       "  <tbody>\n",
       "    <tr>\n",
       "      <th>U1</th>\n",
       "      <td>19</td>\n",
       "      <td>10.421053</td>\n",
       "      <td>1</td>\n",
       "      <td>3</td>\n",
       "    </tr>\n",
       "    <tr>\n",
       "      <th>U2</th>\n",
       "      <td>12</td>\n",
       "      <td>8.833333</td>\n",
       "      <td>1</td>\n",
       "      <td>3</td>\n",
       "    </tr>\n",
       "    <tr>\n",
       "      <th>U3</th>\n",
       "      <td>14</td>\n",
       "      <td>7.928571</td>\n",
       "      <td>1</td>\n",
       "      <td>3</td>\n",
       "    </tr>\n",
       "  </tbody>\n",
       "</table>\n",
       "</div>"
      ],
      "text/plain": [
       "         total_activity_count  avg_active_hour  most_active_day  \\\n",
       "user_id                                                           \n",
       "U1                         19        10.421053                1   \n",
       "U2                         12         8.833333                1   \n",
       "U3                         14         7.928571                1   \n",
       "\n",
       "         source_diversity  \n",
       "user_id                    \n",
       "U1                      3  \n",
       "U2                      3  \n",
       "U3                      3  "
      ]
     },
     "metadata": {},
     "output_type": "display_data"
    }
   ],
   "source": [
    "#show fingerprint\n",
    "display(behavioral_fingerprint)"
   ]
  },
  {
   "cell_type": "markdown",
   "id": "aa9f8e8a-e050-4903-8742-9931bb294997",
   "metadata": {},
   "source": [
    "##  Clustering Users Based on Behavioral Fingerprint\n",
    "\n",
    "To categorize users into behavioral segments, we apply **K-Means Clustering** on the behavioral fingerprint features. This allows us to group users with similar activity levels, time preferences, source diversity, etc.\n",
    "\n",
    "Before clustering, we standardize the data to ensure all features contribute equally.\n",
    "\n",
    "We visualize clusters using pair plots and interpret their characteristics.\n"
   ]
  },
  {
   "cell_type": "code",
   "execution_count": 29,
   "id": "92dcb04f-1f8e-4d3f-ab71-cc5c6dc19fe6",
   "metadata": {},
   "outputs": [],
   "source": [
    "import os\n",
    "os.environ[\"OMP_NUM_THREADS\"] = \"1\""
   ]
  },
  {
   "cell_type": "code",
   "execution_count": 36,
   "id": "e9aac9a8-b7c6-4297-b158-d4edd8ecdae5",
   "metadata": {},
   "outputs": [],
   "source": [
    "from sklearn.preprocessing import StandardScaler\n",
    "from sklearn.cluster import KMeans\n",
    "import seaborn as sns\n",
    "import matplotlib.pyplot as plt"
   ]
  },
  {
   "cell_type": "code",
   "execution_count": 37,
   "id": "02196ada-c163-455d-9578-e6d3c238ecbb",
   "metadata": {},
   "outputs": [],
   "source": [
    "#Drop non-numeric column\n",
    "X = behavioral_fingerprint.drop(columns=[\"most_active_day\"])"
   ]
  },
  {
   "cell_type": "code",
   "execution_count": 38,
   "id": "2758f998-937c-4c92-abf4-36383a29bf57",
   "metadata": {},
   "outputs": [],
   "source": [
    "#standarize the feature \n",
    "scaler = StandardScaler()\n",
    "X_scaled = scaler.fit_transform(X)"
   ]
  },
  {
   "cell_type": "code",
   "execution_count": 39,
   "id": "ca18e8ac-d6a8-4e40-a910-91677d175618",
   "metadata": {},
   "outputs": [],
   "source": [
    "#Apply KMean clustering\n",
    "kmeans = KMeans(n_clusters=3, random_state=42)\n",
    "behavioral_fingerprint['cluster'] = kmeans.fit_predict(X_scaled)"
   ]
  },
  {
   "cell_type": "code",
   "execution_count": 40,
   "id": "02c871d9-7bf8-4503-b412-964977260f2d",
   "metadata": {},
   "outputs": [
    {
     "data": {
      "image/png": "[encoded data removed]",
      "text/plain": [
       "<Figure size 1058.88x1000 with 20 Axes>"
      ]
     },
     "metadata": {},
     "output_type": "display_data"
    }
   ],
   "source": [
    "#visualize cluster \n",
    "sns.pairplot(behavioral_fingerprint.reset_index(), hue='cluster', diag_kind='kde')\n",
    "plt.suptitle('K-Means clusters of user behavior', y=1.02)\n",
    "plt.show()"
   ]
  },
  {
   "cell_type": "code",
   "execution_count": 41,
   "id": "f8f757fd-13c8-4719-b90c-a3f8fba0957a",
   "metadata": {},
   "outputs": [],
   "source": [
    "#Merge behavioral features and cluster labels\n",
    "PersonaGraph = behavioral_fingerprint.copy()"
   ]
  },
  {
   "cell_type": "code",
   "execution_count": 42,
   "id": "243ff6ca-ead1-4481-84d8-97a4f43b78df",
   "metadata": {},
   "outputs": [],
   "source": [
    "# Optional: reset index to make 'user_id' a column\n",
    "PersonaGraph = PersonaGraph.reset_index()"
   ]
  },
  {
   "cell_type": "code",
   "execution_count": 43,
   "id": "edc6cd27-e817-454b-9724-cd75c596416b",
   "metadata": {},
   "outputs": [
    {
     "data": {
      "text/html": [
       "<div>\n",
       "<style scoped>\n",
       "    .dataframe tbody tr th:only-of-type {\n",
       "        vertical-align: middle;\n",
       "    }\n",
       "\n",
       "    .dataframe tbody tr th {\n",
       "        vertical-align: top;\n",
       "    }\n",
       "\n",
       "    .dataframe thead th {\n",
       "        text-align: right;\n",
       "    }\n",
       "</style>\n",
       "<table border=\"1\" class=\"dataframe\">\n",
       "  <thead>\n",
       "    <tr style=\"text-align: right;\">\n",
       "      <th></th>\n",
       "      <th>user_id</th>\n",
       "      <th>total_activity_count</th>\n",
       "      <th>avg_active_hour</th>\n",
       "      <th>most_active_day</th>\n",
       "      <th>source_diversity</th>\n",
       "      <th>cluster</th>\n",
       "    </tr>\n",
       "  </thead>\n",
       "  <tbody>\n",
       "    <tr>\n",
       "      <th>0</th>\n",
       "      <td>U1</td>\n",
       "      <td>19</td>\n",
       "      <td>10.421053</td>\n",
       "      <td>1</td>\n",
       "      <td>3</td>\n",
       "      <td>2</td>\n",
       "    </tr>\n",
       "    <tr>\n",
       "      <th>1</th>\n",
       "      <td>U2</td>\n",
       "      <td>12</td>\n",
       "      <td>8.833333</td>\n",
       "      <td>1</td>\n",
       "      <td>3</td>\n",
       "      <td>0</td>\n",
       "    </tr>\n",
       "    <tr>\n",
       "      <th>2</th>\n",
       "      <td>U3</td>\n",
       "      <td>14</td>\n",
       "      <td>7.928571</td>\n",
       "      <td>1</td>\n",
       "      <td>3</td>\n",
       "      <td>1</td>\n",
       "    </tr>\n",
       "  </tbody>\n",
       "</table>\n",
       "</div>"
      ],
      "text/plain": [
       "  user_id  total_activity_count  avg_active_hour  most_active_day  \\\n",
       "0      U1                    19        10.421053                1   \n",
       "1      U2                    12         8.833333                1   \n",
       "2      U3                    14         7.928571                1   \n",
       "\n",
       "   source_diversity  cluster  \n",
       "0                 3        2  \n",
       "1                 3        0  \n",
       "2                 3        1  "
      ]
     },
     "execution_count": 43,
     "metadata": {},
     "output_type": "execute_result"
    }
   ],
   "source": [
    "#preview final personagraph \n",
    "PersonaGraph.head()"
   ]
  },
  {
   "cell_type": "code",
   "execution_count": null,
   "id": "e4e0a812-8a7e-45f9-96c6-b826e3201bda",
   "metadata": {},
   "outputs": [],
   "source": []
  }
 ],
 "metadata": {
  "kernelspec": {
   "display_name": "Python 3 (ipykernel)",
   "language": "python",
   "name": "python3"
  },
  "language_info": {
   "codemirror_mode": {
    "name": "ipython",
    "version": 3
   },
   "file_extension": ".py",
   "mimetype": "text/x-python",
   "name": "python",
   "nbconvert_exporter": "python",
   "pygments_lexer": "ipython3",
   "version": "3.13.5"
  }
 },
 "nbformat": 4,
 "nbformat_minor": 5
}
